{
 "cells": [
  {
   "cell_type": "code",
   "execution_count": 52,
   "metadata": {},
   "outputs": [],
   "source": [
    "def fact(n):\n",
    "    n_fact=1\n",
    "    for i in range(1,n+1):\n",
    "        n_fact=n_fact*i\n",
    "    return n_fact    \n",
    "\n",
    "\n",
    "\n",
    "\n",
    "    "
   ]
  },
  {
   "cell_type": "code",
   "execution_count": 53,
   "metadata": {},
   "outputs": [],
   "source": [
    "def isprime(r):\n",
    "    \n",
    "    for i in range(2,r):\n",
    "        if r%i==0:\n",
    "            break\n",
    "    else:\n",
    "            return True\n",
    "        \n",
    "    return False\n",
    "       \n",
    "        "
   ]
  },
  {
   "cell_type": "code",
   "execution_count": 54,
   "metadata": {},
   "outputs": [],
   "source": [
    "def primefrom2toN(n):\n",
    "    for k in range(2,n):\n",
    "        is_K_prime=isprime(k)\n",
    "        if is_K_prime:\n",
    "            print(k)"
   ]
  },
  {
   "cell_type": "code",
   "execution_count": 55,
   "metadata": {},
   "outputs": [
    {
     "name": "stdout",
     "output_type": "stream",
     "text": [
      "2\n",
      "3\n",
      "5\n",
      "7\n",
      "11\n",
      "13\n"
     ]
    }
   ],
   "source": [
    "primefrom2toN(15)\n"
   ]
  },
  {
   "cell_type": "code",
   "execution_count": 56,
   "metadata": {},
   "outputs": [
    {
     "name": "stdout",
     "output_type": "stream",
     "text": [
      "6\n",
      "2\n",
      "15\n"
     ]
    }
   ],
   "source": [
    "n=int(input())\n",
    "r=int(input())\n",
    "n_fact=fact(n)\n",
    "r_fact=fact(r)\n",
    "n_r_fact=fact(n-r)\n",
    "ans=n_fact//(r_fact*n_r_fact)\n",
    "print(ans)"
   ]
  },
  {
   "cell_type": "code",
   "execution_count": 57,
   "metadata": {},
   "outputs": [],
   "source": [
    "def ncr(n,r):\n",
    "    n_fact=fact(n)\n",
    "    r_fact=fact(r)\n",
    "    n_r_fact=fact(n-r)\n",
    "    ans=n_fact//(r_fact*n_r_fact)\n",
    "    return ans"
   ]
  },
  {
   "cell_type": "code",
   "execution_count": 59,
   "metadata": {},
   "outputs": [
    {
     "data": {
      "text/plain": [
       "10"
      ]
     },
     "execution_count": 59,
     "metadata": {},
     "output_type": "execute_result"
    }
   ],
   "source": [
    "ncr(5,2)"
   ]
  },
  {
   "cell_type": "code",
   "execution_count": 62,
   "metadata": {},
   "outputs": [
    {
     "name": "stdout",
     "output_type": "stream",
     "text": [
      "12\n"
     ]
    }
   ],
   "source": [
    "a = 14\n",
    "def f():\n",
    "    global a\n",
    "    a=12\n",
    "f()\n",
    "print(a)\n"
   ]
  },
  {
   "cell_type": "code",
   "execution_count": null,
   "metadata": {},
   "outputs": [],
   "source": [
    "a = 14\n",
    "def f():\n",
    "    a=12\n",
    "f()\n",
    "print(a)\n"
   ]
  },
  {
   "cell_type": "code",
   "execution_count": 93,
   "metadata": {},
   "outputs": [],
   "source": [
    "def a(t,b,c=0,d=0):\n",
    "    \n",
    "    return t+b+c+d\n"
   ]
  },
  {
   "cell_type": "code",
   "execution_count": 98,
   "metadata": {},
   "outputs": [
    {
     "data": {
      "text/plain": [
       "35"
      ]
     },
     "execution_count": 98,
     "metadata": {},
     "output_type": "execute_result"
    }
   ],
   "source": [
    "a(5,b=5,d=25)"
   ]
  }
 ],
 "metadata": {
  "kernelspec": {
   "display_name": "Python 3",
   "language": "python",
   "name": "python3"
  },
  "language_info": {
   "codemirror_mode": {
    "name": "ipython",
    "version": 3
   },
   "file_extension": ".py",
   "mimetype": "text/x-python",
   "name": "python",
   "nbconvert_exporter": "python",
   "pygments_lexer": "ipython3",
   "version": "3.7.3"
  }
 },
 "nbformat": 4,
 "nbformat_minor": 2
}
