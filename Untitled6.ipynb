{
 "cells": [
  {
   "cell_type": "markdown",
   "metadata": {},
   "source": [
    "linear search"
   ]
  },
  {
   "cell_type": "code",
   "execution_count": 19,
   "metadata": {},
   "outputs": [
    {
     "name": "stdout",
     "output_type": "stream",
     "text": [
      "enter the string\n",
      "265\n",
      "enter the number which you want to find\n",
      " 326\n",
      "-1\n"
     ]
    }
   ],
   "source": [
    "print(\"enter the string\")\n",
    "li=[int(x) for x in input().split()]### this is string to spce seprated list\n",
    "\n",
    "print(\"enter the number which you want to find\")\n",
    "ele=int(input())    \n",
    "isFound=False\n",
    "for i in range(len(li)):\n",
    "    if li[i]==ele:\n",
    "        print(i)\n",
    "        isFound=True\n",
    "        break\n",
    "else:\n",
    "    \n",
    "    print(-1)\n",
    "         \n",
    "    "
   ]
  },
  {
   "cell_type": "markdown",
   "metadata": {},
   "source": [
    "linear seach though function\n"
   ]
  },
  {
   "cell_type": "code",
   "execution_count": 22,
   "metadata": {},
   "outputs": [
    {
     "name": "stdout",
     "output_type": "stream",
     "text": [
      "2 6 9 5 8 6\n",
      "8\n",
      "4\n"
     ]
    }
   ],
   "source": [
    "def linear_search(li,ele):\n",
    "    for i in range(len(li)):\n",
    "        if li[i]==ele:\n",
    "            return i\n",
    "    return -1\n",
    "\n",
    "\n",
    "\n",
    "li=[int(x) for x in input().split()]\n",
    "ele=int(input())\n",
    "index=linear_search(li,ele)\n",
    "print(index)"
   ]
  }
 ],
 "metadata": {
  "kernelspec": {
   "display_name": "Python 3",
   "language": "python",
   "name": "python3"
  },
  "language_info": {
   "codemirror_mode": {
    "name": "ipython",
    "version": 3
   },
   "file_extension": ".py",
   "mimetype": "text/x-python",
   "name": "python",
   "nbconvert_exporter": "python",
   "pygments_lexer": "ipython3",
   "version": "3.7.3"
  }
 },
 "nbformat": 4,
 "nbformat_minor": 2
}
