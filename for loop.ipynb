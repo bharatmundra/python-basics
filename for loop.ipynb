{
 "cells": [
  {
   "cell_type": "code",
   "execution_count": 1,
   "metadata": {},
   "outputs": [
    {
     "name": "stdout",
     "output_type": "stream",
     "text": [
      "h\n",
      "e\n",
      "l\n",
      "l\n",
      "o\n",
      " \n",
      "b\n",
      "h\n",
      "a\n",
      "r\n",
      "a\n",
      "t\n"
     ]
    }
   ],
   "source": [
    "n=\"hello bharat\"\n",
    "for i in n:\n",
    "    print(i)"
   ]
  },
  {
   "cell_type": "code",
   "execution_count": null,
   "metadata": {},
   "outputs": [],
   "source": []
  },
  {
   "cell_type": "code",
   "execution_count": 3,
   "metadata": {},
   "outputs": [
    {
     "name": "stdout",
     "output_type": "stream",
     "text": [
      "5\n",
      "1\n",
      "2\n",
      "3\n",
      "4\n",
      "5\n"
     ]
    }
   ],
   "source": [
    "n=int(input())\n",
    "for i in range(1,n+1,1):\n",
    "    \n",
    "    \n",
    "   \n",
    "\n",
    "    print(i)"
   ]
  },
  {
   "cell_type": "code",
   "execution_count": 4,
   "metadata": {},
   "outputs": [
    {
     "name": "stdout",
     "output_type": "stream",
     "text": [
      "5\n",
      "5\n",
      "4\n",
      "3\n",
      "2\n",
      "1\n"
     ]
    }
   ],
   "source": [
    "n=int(input())\n",
    "for i in range(n,0,-1):\n",
    "    print(i)"
   ]
  },
  {
   "cell_type": "code",
   "execution_count": 1,
   "metadata": {},
   "outputs": [
    {
     "name": "stdout",
     "output_type": "stream",
     "text": [
      "5\n",
      "50\n",
      "6\n",
      "9\n",
      "12\n",
      "15\n",
      "18\n",
      "21\n",
      "24\n",
      "27\n",
      "30\n",
      "33\n",
      "36\n",
      "39\n",
      "42\n",
      "45\n",
      "48\n"
     ]
    }
   ],
   "source": [
    "a=int(input())\n",
    "b=int(input())\n",
    "for i in range(a,b+1,1):\n",
    "    if i%3==0:\n",
    "        print(i)"
   ]
  },
  {
   "cell_type": "code",
   "execution_count": 13,
   "metadata": {},
   "outputs": [
    {
     "name": "stdout",
     "output_type": "stream",
     "text": [
      "12\n",
      "50\n",
      "12\n",
      "15\n",
      "18\n",
      "21\n",
      "24\n",
      "27\n",
      "30\n",
      "33\n",
      "36\n",
      "39\n",
      "42\n",
      "45\n",
      "48\n"
     ]
    }
   ],
   "source": [
    "a=int(input()) \n",
    "b=int(input())\n",
    "if i%3==0:\n",
    "    s=a\n",
    "elif a%3==1:\n",
    "     s=a+2\n",
    "else:\n",
    "    s=a+1\n",
    "for i in range(s,b+1,3):\n",
    "    print(i)\n"
   ]
  },
  {
   "cell_type": "markdown",
   "metadata": {},
   "source": [
    "prime or not"
   ]
  },
  {
   "cell_type": "code",
   "execution_count": 4,
   "metadata": {},
   "outputs": [
    {
     "name": "stdout",
     "output_type": "stream",
     "text": [
      "123456789\n",
      "not prime\n"
     ]
    }
   ],
   "source": [
    "n=int(input())\n",
    "flag=False\n",
    "for i in range(2,n,1):\n",
    "    if n%i==0:\n",
    "        flag=True\n",
    "        break\n",
    "if flag:\n",
    "    print(\"not prime\")\n",
    "else:\n",
    "    print(\"prime\")\n",
    "    "
   ]
  },
  {
   "cell_type": "markdown",
   "metadata": {},
   "source": [
    "### without break taking lots of time"
   ]
  },
  {
   "cell_type": "code",
   "execution_count": 5,
   "metadata": {},
   "outputs": [
    {
     "name": "stdout",
     "output_type": "stream",
     "text": [
      "123456789\n",
      "not prime\n"
     ]
    }
   ],
   "source": [
    "n=int(input())\n",
    "flag=False\n",
    "for i in range(2,n,1):\n",
    "    if n%i==0:\n",
    "        flag=True\n",
    "        \n",
    "if flag:\n",
    "    print(\"not prime\")\n",
    "else:\n",
    "    print(\"prime\")\n",
    "    "
   ]
  },
  {
   "cell_type": "code",
   "execution_count": 13,
   "metadata": {},
   "outputs": [
    {
     "name": "stdout",
     "output_type": "stream",
     "text": [
      "5\n",
      "2 \n",
      "3 \n",
      "\n"
     ]
    }
   ],
   "source": [
    "n=int(input())\n",
    "k=2\n",
    "\n",
    "while k<n:\n",
    "    d=2\n",
    "    flag=False\n",
    "    while d<k:\n",
    "        if k%d==0:\n",
    "            flag=True\n",
    "            break\n",
    "        d+=1\n",
    "    if (not(flag)):###mean false means not prime no\n",
    "        print(k,end=\" \")\n",
    "    print()    \n",
    "    k=k+1"
   ]
  },
  {
   "cell_type": "code",
   "execution_count": 14,
   "metadata": {},
   "outputs": [
    {
     "name": "stdout",
     "output_type": "stream",
     "text": [
      "2\n",
      "**\n",
      "**\n"
     ]
    }
   ],
   "source": [
    " ###pattern\n",
    "n=int(input())\n",
    "for i in range(1,n+1,1):\n",
    "    for j in range(1,n+1,1):\n",
    "        print(\"*\",end=\"\")\n",
    "    print()    "
   ]
  },
  {
   "cell_type": "code",
   "execution_count": 34,
   "metadata": {},
   "outputs": [
    {
     "name": "stdout",
     "output_type": "stream",
     "text": [
      "6\n",
      "\n",
      "*\n",
      "**\n",
      "***\n",
      "****\n",
      "*****\n",
      "******\n"
     ]
    }
   ],
   "source": [
    "###pattern\n",
    "n=int(input())\n",
    "for i in range(0,n+1,1):\n",
    "    for j in range(0,i,1):\n",
    "        print(\"*\",end=\"\")\n",
    "    print()    "
   ]
  },
  {
   "cell_type": "code",
   "execution_count": 49,
   "metadata": {},
   "outputs": [
    {
     "name": "stdout",
     "output_type": "stream",
     "text": [
      "5\n",
      "        1 \n",
      "      2 3 2 \n",
      "    3 4 5 4 3 \n",
      "  4 5 6 7 6 5 4 \n",
      "5 6 7 8 9 8 7 6 5 \n"
     ]
    }
   ],
   "source": [
    "n=int(input())\n",
    "for i in range(1,n+1,1):\n",
    "    for space in range(1,n-i+1,1):\n",
    "        print(\" \",end=\" \")\n",
    "      \n",
    "    for num1 in range(i,2*i,1):\n",
    "        print(num1,end=\" \")\n",
    "    for num2 in range(2*i-2,i-1,-1):\n",
    "        print(num2,end=\" \")\n",
    "    print()   "
   ]
  },
  {
   "cell_type": "code",
   "execution_count": 17,
   "metadata": {},
   "outputs": [
    {
     "name": "stdout",
     "output_type": "stream",
     "text": [
      "5\n",
      "this line is print at the end before 5\n"
     ]
    }
   ],
   "source": [
    "n=int(input())\n",
    "while i<n:\n",
    "    if i==n:\n",
    "        break\n",
    "        \n",
    "    print(i)\n",
    "    i+=1\n",
    "else:\n",
    "    print(\"this line is print at the end before 5\")"
   ]
  },
  {
   "cell_type": "code",
   "execution_count": 20,
   "metadata": {},
   "outputs": [
    {
     "name": "stdout",
     "output_type": "stream",
     "text": [
      "23\n",
      "prime\n"
     ]
    }
   ],
   "source": [
    "n=int(input())\n",
    "for i in range(2,n,1):\n",
    "    if n%2==0:\n",
    "        break\n",
    "    ###withe the help of break statment we just encouter \n",
    "    ###the while loop and with the help of else we print that the no is prime  \n",
    "    ####if number is not prime then not return anything        \n",
    "else: \n",
    "    print(\"prime\")"
   ]
  },
  {
   "cell_type": "code",
   "execution_count": 24,
   "metadata": {},
   "outputs": [
    {
     "name": "stdout",
     "output_type": "stream",
     "text": [
      "1 2 3 4 else is also printed\n"
     ]
    }
   ],
   "source": [
    "i=1\n",
    "while i<5:\n",
    "    if i == 6:\n",
    "        break\n",
    "    print(i,end=\" \")\n",
    "    i = i + 1\n",
    "else:\n",
    "    print(\"else is also printed\")"
   ]
  },
  {
   "cell_type": "markdown",
   "metadata": {},
   "source": [
    "### continue key word\n"
   ]
  },
  {
   "cell_type": "code",
   "execution_count": 43,
   "metadata": {},
   "outputs": [
    {
     "name": "stdout",
     "output_type": "stream",
     "text": [
      "25\n",
      "1\n",
      "3\n",
      "5\n",
      "7\n",
      "9\n",
      "11\n",
      "13\n",
      "15\n",
      "17\n",
      "19\n",
      "21\n",
      "23\n",
      "25\n"
     ]
    }
   ],
   "source": [
    "n=int(input())\n",
    "for i in range(1,n+1,2):\n",
    "    print(i)\n",
    "    if i%2==0:\n",
    "        continue\n",
    "   \n",
    "   \n"
   ]
  },
  {
   "cell_type": "code",
   "execution_count": 45,
   "metadata": {},
   "outputs": [
    {
     "name": "stdout",
     "output_type": "stream",
     "text": [
      "25\n",
      "1\n",
      "3\n",
      "5\n",
      "7\n",
      "9\n",
      "11\n",
      "13\n",
      "15\n",
      "17\n",
      "19\n",
      "21\n",
      "23\n",
      "25\n"
     ]
    }
   ],
   "source": [
    "n=int(input())\n",
    "for i in range(1,n+1,2):\n",
    "    print(i)\n",
    "    if i%2==0:\n",
    "        break\n",
    "        if i%3==0:\n",
    "            continue\n",
    "        "
   ]
  },
  {
   "cell_type": "code",
   "execution_count": null,
   "metadata": {},
   "outputs": [],
   "source": []
  }
 ],
 "metadata": {
  "kernelspec": {
   "display_name": "Python 3",
   "language": "python",
   "name": "python3"
  },
  "language_info": {
   "codemirror_mode": {
    "name": "ipython",
    "version": 3
   },
   "file_extension": ".py",
   "mimetype": "text/x-python",
   "name": "python",
   "nbconvert_exporter": "python",
   "pygments_lexer": "ipython3",
   "version": "3.7.3"
  }
 },
 "nbformat": 4,
 "nbformat_minor": 2
}
